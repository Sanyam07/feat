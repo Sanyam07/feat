{
 "cells": [
  {
   "cell_type": "markdown",
   "metadata": {},
   "source": [
    "# Automatic differentiation: a backpropagation example for genetic programming\n",
    "\n",
    "The purpose of this notebook is to demonstrate how weights can be learned for programs made up of differentiable nodes. In this case we're concerned with stack-based representations of mathematical functions, such as \n",
    "\n",
    "[ x1 x2 + sin ] $\\rightarrow sin(x1+x2)$\n",
    "\n",
    "or with embedded weights, $w_4 \\cdot \\sin( w_3 \\cdot ( w_1 \\cdot x_1 + w_2 \\cdot x_2) ) $"
   ]
  },
  {
   "cell_type": "code",
   "execution_count": 24,
   "metadata": {},
   "outputs": [],
   "source": [
    "# define node classes\n",
    "\n",
    "class Variable():\n",
    "    def __init__(self,loc=0,w=None):\n",
    "        self.loc = loc\n",
    "        self.name='x_'+str(loc)\n",
    "        self.arity=0\n",
    "        if w: self.w=w\n",
    "        else: self.w=1.0\n",
    "                \n",
    "    def evaluate(self,stack,X=None):\n",
    "        stack.append(self.w*X[:,self.loc])\n",
    "        \n",
    "    def derivative(self,stack,X=None):\n",
    "        stack.append(self.X[:,self.loc])\n",
    "    \n",
    "class Add():\n",
    "    def __init__(self,w=None):\n",
    "        self.name='+'\n",
    "        self.arity=2\n",
    "        if w: self.w=w\n",
    "        else: self.w = 1.0\n",
    "            \n",
    "    def evaluate(self,stack,X=None):\n",
    "        stack.append(self.w*(stack.pop() + stack.pop()))\n",
    "    \n",
    "    def derivative(self,stack,X=None):\n",
    "        stack.append(stack.pop() + stack.pop())\n",
    "\n",
    "class Subtract():\n",
    "    def __init__(self,w=None):\n",
    "        self.name='-'\n",
    "        self.arity=2\n",
    "        if w: self.w=w\n",
    "        else: self.w = 1.0\n",
    "        \n",
    "    def evaluate(self,stack,X=None):\n",
    "        stack.append(self.w*(stack.pop() - stack.pop()))\n",
    "    \n",
    "    def derivative(self,stack,X=None):\n",
    "        stack.append(stack.pop() - stack.pop())\n",
    "        \n",
    "class Multiply():\n",
    "    def __init__(self,w=None):\n",
    "        self.name='*'\n",
    "        self.arity=2\n",
    "        if w: self.w=w\n",
    "        else: self.w = 1.0\n",
    "            \n",
    "    def evaluate(self,stack,X=None):\n",
    "        stack.append(self.w*(stack.pop() + stack.pop()))\n",
    "    \n",
    "    def derivative(self,stack,X=None):\n",
    "        stack.append(stack.pop() + stack.pop())\n",
    "\n",
    "class Divide():\n",
    "    def __init__(self,w=None):\n",
    "        self.name='/'\n",
    "        self.arity=2\n",
    "        if w: self.w=w\n",
    "        else: self.w = 1.0\n",
    " \n",
    "    def evaluate(self,X,stack):\n",
    "        stack.append(self.w*(stack.pop()/stack.pop()))\n",
    "    \n",
    "    def derivative(self,stack,X=None):\n",
    "        stack.append(stack.pop() / stack.pop())\n",
    " \n",
    "class Sin():\n",
    "    def __init__(self,w=None):\n",
    "        self.name='sin'\n",
    "        self.arity=1\n",
    "        if w: self.w=w\n",
    "        else: self.w = 1.0\n",
    "        \n",
    "    def evaluate(self,stack,X=None):\n",
    "        stack.append(self.w*(np.sin(stack.pop())))\n",
    "    \n",
    "    def derivative(self,stack,X=None):\n",
    "        stack.append(-np.cos(self.stack.pop()))\n",
    "        \n",
    "class Cos():\n",
    "    def __init__(self,w=None):\n",
    "        self.name='cos'\n",
    "        self.arity=1\n",
    "        if w: self.w=w\n",
    "        else: self.w = 1.0\n",
    "            \n",
    "    def evaluate(self,stack,X=None):\n",
    "        stack.append(self.w*(np.cos(stack.pop())))\n",
    "    \n",
    "    def derivative(self,stack,X=None):\n",
    "        stack.append(np.sin(stack.pop()))        "
   ]
  },
  {
   "cell_type": "code",
   "execution_count": 27,
   "metadata": {},
   "outputs": [
    {
     "data": {
      "image/png": "[encoded data removed]",
      "text/plain": [
       "<matplotlib.figure.Figure at 0x7f9aa8483eb8>"
      ]
     },
     "metadata": {},
     "output_type": "display_data"
    },
    {
     "data": {
      "image/png": "[encoded data removed]",
      "text/plain": [
       "<matplotlib.figure.Figure at 0x7f9aa8255780>"
      ]
     },
     "metadata": {},
     "output_type": "display_data"
    }
   ],
   "source": [
    "import numpy as np\n",
    "X = np.random.rand(100,2)\n",
    "\n",
    "ytest = np.sin(X[:,0]+X[:,1])\n",
    "\n",
    "prog = [Variable(loc=1), Variable(loc=0), Add(), Sin()]\n",
    "stack=[]\n",
    "for p in prog:\n",
    "    p.evaluate(stack,X)\n",
    "yhat = np.array(stack[-1])\n",
    "\n",
    "import matplotlib.pyplot as plt\n",
    "%matplotlib inline\n",
    "h0 = plt.figure()\n",
    "plt.plot(ytest,yhat)\n",
    "\n",
    "\n",
    "# test weights\n",
    "w1, w2, w3, w4 = 0.67, 0.315, 0.89, 0.13\n",
    "\n",
    "ytest = w4*np.sin(w3*(w2*X[:,0]+w1*X[:,1]))\n",
    "\n",
    "prog = [Variable(loc=1,w=w1), Variable(loc=0,w=w2), Add(w=w3), Sin(w=w4)]\n",
    "stack=[]\n",
    "for p in prog:\n",
    "    p.evaluate(stack,X)\n",
    "yhat = np.array(stack[-1])\n",
    "\n",
    "h1 = plt.figure()\n",
    "plt.plot(ytest,yhat)\n",
    "plt.title('weights')\n",
    "plt.show()"
   ]
  },
  {
   "cell_type": "code",
   "execution_count": null,
   "metadata": {
    "collapsed": true
   },
   "outputs": [],
   "source": []
  }
 ],
 "metadata": {
  "kernelspec": {
   "display_name": "Python [conda env:anaconda3]",
   "language": "python",
   "name": "conda-env-anaconda3-py"
  },
  "language_info": {
   "codemirror_mode": {
    "name": "ipython",
    "version": 3
   },
   "file_extension": ".py",
   "mimetype": "text/x-python",
   "name": "python",
   "nbconvert_exporter": "python",
   "pygments_lexer": "ipython3",
   "version": "3.5.3"
  }
 },
 "nbformat": 4,
 "nbformat_minor": 2
}
